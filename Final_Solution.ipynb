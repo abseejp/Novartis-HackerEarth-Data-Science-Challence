{
 "cells": [
  {
   "cell_type": "markdown",
   "metadata": {},
   "source": [
    "#### Import all necessary libraries"
   ]
  },
  {
   "cell_type": "code",
   "execution_count": 1,
   "metadata": {},
   "outputs": [],
   "source": [
    "import pandas as pd\n",
    "import numpy as np\n",
    "import matplotlib.pyplot as plt\n",
    "import seaborn as sns\n",
    "import warnings\n",
    "from sklearn.model_selection import GridSearchCV\n",
    "from xgboost import XGBClassifier\n",
    "\n",
    "\n",
    "from sklearn import preprocessing\n",
    "\n",
    "warnings.filterwarnings(\"ignore\")\n",
    "\n",
    "pd.options.display.max_rows = None\n",
    "pd.options.display.max_columns = None\n",
    "sns.set()"
   ]
  },
  {
   "cell_type": "markdown",
   "metadata": {},
   "source": [
    "#### import both train and test dataset"
   ]
  },
  {
   "cell_type": "code",
   "execution_count": 2,
   "metadata": {},
   "outputs": [],
   "source": [
    "train_df = pd.read_csv(\"Train.csv\")\n",
    "test_df = pd.read_csv(\"Test.csv\")\n"
   ]
  },
  {
   "cell_type": "code",
   "execution_count": 3,
   "metadata": {},
   "outputs": [
    {
     "data": {
      "text/html": [
       "<div>\n",
       "<style scoped>\n",
       "    .dataframe tbody tr th:only-of-type {\n",
       "        vertical-align: middle;\n",
       "    }\n",
       "\n",
       "    .dataframe tbody tr th {\n",
       "        vertical-align: top;\n",
       "    }\n",
       "\n",
       "    .dataframe thead th {\n",
       "        text-align: right;\n",
       "    }\n",
       "</style>\n",
       "<table border=\"1\" class=\"dataframe\">\n",
       "  <thead>\n",
       "    <tr style=\"text-align: right;\">\n",
       "      <th></th>\n",
       "      <th>INCIDENT_ID</th>\n",
       "      <th>DATE</th>\n",
       "      <th>X_1</th>\n",
       "      <th>X_2</th>\n",
       "      <th>X_3</th>\n",
       "      <th>X_4</th>\n",
       "      <th>X_5</th>\n",
       "      <th>X_6</th>\n",
       "      <th>X_7</th>\n",
       "      <th>X_8</th>\n",
       "      <th>X_9</th>\n",
       "      <th>X_10</th>\n",
       "      <th>X_11</th>\n",
       "      <th>X_12</th>\n",
       "      <th>X_13</th>\n",
       "      <th>X_14</th>\n",
       "      <th>X_15</th>\n",
       "      <th>MULTIPLE_OFFENSE</th>\n",
       "    </tr>\n",
       "  </thead>\n",
       "  <tbody>\n",
       "    <tr>\n",
       "      <th>0</th>\n",
       "      <td>CR_102659</td>\n",
       "      <td>4-Jul-04</td>\n",
       "      <td>0</td>\n",
       "      <td>36</td>\n",
       "      <td>34</td>\n",
       "      <td>2</td>\n",
       "      <td>1</td>\n",
       "      <td>5</td>\n",
       "      <td>6</td>\n",
       "      <td>1</td>\n",
       "      <td>6</td>\n",
       "      <td>1</td>\n",
       "      <td>174</td>\n",
       "      <td>1.0</td>\n",
       "      <td>92</td>\n",
       "      <td>29</td>\n",
       "      <td>36</td>\n",
       "      <td>0</td>\n",
       "    </tr>\n",
       "    <tr>\n",
       "      <th>1</th>\n",
       "      <td>CR_189752</td>\n",
       "      <td>18-Jul-17</td>\n",
       "      <td>1</td>\n",
       "      <td>37</td>\n",
       "      <td>37</td>\n",
       "      <td>0</td>\n",
       "      <td>0</td>\n",
       "      <td>11</td>\n",
       "      <td>17</td>\n",
       "      <td>1</td>\n",
       "      <td>6</td>\n",
       "      <td>1</td>\n",
       "      <td>236</td>\n",
       "      <td>1.0</td>\n",
       "      <td>103</td>\n",
       "      <td>142</td>\n",
       "      <td>34</td>\n",
       "      <td>1</td>\n",
       "    </tr>\n",
       "    <tr>\n",
       "      <th>2</th>\n",
       "      <td>CR_184637</td>\n",
       "      <td>15-Mar-17</td>\n",
       "      <td>0</td>\n",
       "      <td>3</td>\n",
       "      <td>2</td>\n",
       "      <td>3</td>\n",
       "      <td>5</td>\n",
       "      <td>1</td>\n",
       "      <td>0</td>\n",
       "      <td>2</td>\n",
       "      <td>3</td>\n",
       "      <td>1</td>\n",
       "      <td>174</td>\n",
       "      <td>1.0</td>\n",
       "      <td>110</td>\n",
       "      <td>93</td>\n",
       "      <td>34</td>\n",
       "      <td>1</td>\n",
       "    </tr>\n",
       "    <tr>\n",
       "      <th>3</th>\n",
       "      <td>CR_139071</td>\n",
       "      <td>13-Feb-09</td>\n",
       "      <td>0</td>\n",
       "      <td>33</td>\n",
       "      <td>32</td>\n",
       "      <td>2</td>\n",
       "      <td>1</td>\n",
       "      <td>7</td>\n",
       "      <td>1</td>\n",
       "      <td>1</td>\n",
       "      <td>6</td>\n",
       "      <td>1</td>\n",
       "      <td>249</td>\n",
       "      <td>1.0</td>\n",
       "      <td>72</td>\n",
       "      <td>29</td>\n",
       "      <td>34</td>\n",
       "      <td>1</td>\n",
       "    </tr>\n",
       "    <tr>\n",
       "      <th>4</th>\n",
       "      <td>CR_109335</td>\n",
       "      <td>13-Apr-05</td>\n",
       "      <td>0</td>\n",
       "      <td>33</td>\n",
       "      <td>32</td>\n",
       "      <td>2</td>\n",
       "      <td>1</td>\n",
       "      <td>8</td>\n",
       "      <td>3</td>\n",
       "      <td>0</td>\n",
       "      <td>5</td>\n",
       "      <td>1</td>\n",
       "      <td>174</td>\n",
       "      <td>0.0</td>\n",
       "      <td>112</td>\n",
       "      <td>29</td>\n",
       "      <td>43</td>\n",
       "      <td>1</td>\n",
       "    </tr>\n",
       "  </tbody>\n",
       "</table>\n",
       "</div>"
      ],
      "text/plain": [
       "  INCIDENT_ID       DATE  X_1  X_2  X_3  X_4  X_5  X_6  X_7  X_8  X_9  X_10  \\\n",
       "0   CR_102659   4-Jul-04    0   36   34    2    1    5    6    1    6     1   \n",
       "1   CR_189752  18-Jul-17    1   37   37    0    0   11   17    1    6     1   \n",
       "2   CR_184637  15-Mar-17    0    3    2    3    5    1    0    2    3     1   \n",
       "3   CR_139071  13-Feb-09    0   33   32    2    1    7    1    1    6     1   \n",
       "4   CR_109335  13-Apr-05    0   33   32    2    1    8    3    0    5     1   \n",
       "\n",
       "   X_11  X_12  X_13  X_14  X_15  MULTIPLE_OFFENSE  \n",
       "0   174   1.0    92    29    36                 0  \n",
       "1   236   1.0   103   142    34                 1  \n",
       "2   174   1.0   110    93    34                 1  \n",
       "3   249   1.0    72    29    34                 1  \n",
       "4   174   0.0   112    29    43                 1  "
      ]
     },
     "execution_count": 3,
     "metadata": {},
     "output_type": "execute_result"
    }
   ],
   "source": [
    "train_df.head()"
   ]
  },
  {
   "cell_type": "code",
   "execution_count": 4,
   "metadata": {},
   "outputs": [
    {
     "data": {
      "text/html": [
       "<div>\n",
       "<style scoped>\n",
       "    .dataframe tbody tr th:only-of-type {\n",
       "        vertical-align: middle;\n",
       "    }\n",
       "\n",
       "    .dataframe tbody tr th {\n",
       "        vertical-align: top;\n",
       "    }\n",
       "\n",
       "    .dataframe thead th {\n",
       "        text-align: right;\n",
       "    }\n",
       "</style>\n",
       "<table border=\"1\" class=\"dataframe\">\n",
       "  <thead>\n",
       "    <tr style=\"text-align: right;\">\n",
       "      <th></th>\n",
       "      <th>INCIDENT_ID</th>\n",
       "      <th>DATE</th>\n",
       "      <th>X_1</th>\n",
       "      <th>X_2</th>\n",
       "      <th>X_3</th>\n",
       "      <th>X_4</th>\n",
       "      <th>X_5</th>\n",
       "      <th>X_6</th>\n",
       "      <th>X_7</th>\n",
       "      <th>X_8</th>\n",
       "      <th>X_9</th>\n",
       "      <th>X_10</th>\n",
       "      <th>X_11</th>\n",
       "      <th>X_12</th>\n",
       "      <th>X_13</th>\n",
       "      <th>X_14</th>\n",
       "      <th>X_15</th>\n",
       "    </tr>\n",
       "  </thead>\n",
       "  <tbody>\n",
       "    <tr>\n",
       "      <th>0</th>\n",
       "      <td>CR_195453</td>\n",
       "      <td>01-FEB-18</td>\n",
       "      <td>0</td>\n",
       "      <td>30</td>\n",
       "      <td>35</td>\n",
       "      <td>7</td>\n",
       "      <td>3</td>\n",
       "      <td>6</td>\n",
       "      <td>4</td>\n",
       "      <td>0</td>\n",
       "      <td>5</td>\n",
       "      <td>1</td>\n",
       "      <td>174</td>\n",
       "      <td>NaN</td>\n",
       "      <td>72</td>\n",
       "      <td>119</td>\n",
       "      <td>23</td>\n",
       "    </tr>\n",
       "    <tr>\n",
       "      <th>1</th>\n",
       "      <td>CR_103520</td>\n",
       "      <td>05-MAR-04</td>\n",
       "      <td>0</td>\n",
       "      <td>44</td>\n",
       "      <td>44</td>\n",
       "      <td>1</td>\n",
       "      <td>3</td>\n",
       "      <td>7</td>\n",
       "      <td>1</td>\n",
       "      <td>4</td>\n",
       "      <td>6</td>\n",
       "      <td>1</td>\n",
       "      <td>316</td>\n",
       "      <td>0.0</td>\n",
       "      <td>12</td>\n",
       "      <td>29</td>\n",
       "      <td>34</td>\n",
       "    </tr>\n",
       "    <tr>\n",
       "      <th>2</th>\n",
       "      <td>CR_196089</td>\n",
       "      <td>27-JAN-18</td>\n",
       "      <td>0</td>\n",
       "      <td>34</td>\n",
       "      <td>33</td>\n",
       "      <td>3</td>\n",
       "      <td>5</td>\n",
       "      <td>2</td>\n",
       "      <td>7</td>\n",
       "      <td>3</td>\n",
       "      <td>0</td>\n",
       "      <td>1</td>\n",
       "      <td>316</td>\n",
       "      <td>1.0</td>\n",
       "      <td>72</td>\n",
       "      <td>0</td>\n",
       "      <td>34</td>\n",
       "    </tr>\n",
       "    <tr>\n",
       "      <th>3</th>\n",
       "      <td>CR_112195</td>\n",
       "      <td>18-AUG-06</td>\n",
       "      <td>7</td>\n",
       "      <td>3</td>\n",
       "      <td>2</td>\n",
       "      <td>3</td>\n",
       "      <td>5</td>\n",
       "      <td>9</td>\n",
       "      <td>8</td>\n",
       "      <td>0</td>\n",
       "      <td>5</td>\n",
       "      <td>1</td>\n",
       "      <td>174</td>\n",
       "      <td>1.0</td>\n",
       "      <td>112</td>\n",
       "      <td>87</td>\n",
       "      <td>34</td>\n",
       "    </tr>\n",
       "    <tr>\n",
       "      <th>4</th>\n",
       "      <td>CR_149832</td>\n",
       "      <td>31-OCT-11</td>\n",
       "      <td>0</td>\n",
       "      <td>7</td>\n",
       "      <td>8</td>\n",
       "      <td>7</td>\n",
       "      <td>3</td>\n",
       "      <td>2</td>\n",
       "      <td>7</td>\n",
       "      <td>1</td>\n",
       "      <td>5</td>\n",
       "      <td>1</td>\n",
       "      <td>174</td>\n",
       "      <td>0.0</td>\n",
       "      <td>112</td>\n",
       "      <td>93</td>\n",
       "      <td>43</td>\n",
       "    </tr>\n",
       "  </tbody>\n",
       "</table>\n",
       "</div>"
      ],
      "text/plain": [
       "  INCIDENT_ID       DATE  X_1  X_2  X_3  X_4  X_5  X_6  X_7  X_8  X_9  X_10  \\\n",
       "0   CR_195453  01-FEB-18    0   30   35    7    3    6    4    0    5     1   \n",
       "1   CR_103520  05-MAR-04    0   44   44    1    3    7    1    4    6     1   \n",
       "2   CR_196089  27-JAN-18    0   34   33    3    5    2    7    3    0     1   \n",
       "3   CR_112195  18-AUG-06    7    3    2    3    5    9    8    0    5     1   \n",
       "4   CR_149832  31-OCT-11    0    7    8    7    3    2    7    1    5     1   \n",
       "\n",
       "   X_11  X_12  X_13  X_14  X_15  \n",
       "0   174   NaN    72   119    23  \n",
       "1   316   0.0    12    29    34  \n",
       "2   316   1.0    72     0    34  \n",
       "3   174   1.0   112    87    34  \n",
       "4   174   0.0   112    93    43  "
      ]
     },
     "execution_count": 4,
     "metadata": {},
     "output_type": "execute_result"
    }
   ],
   "source": [
    "test_df.head()"
   ]
  },
  {
   "cell_type": "code",
   "execution_count": 5,
   "metadata": {},
   "outputs": [
    {
     "data": {
      "text/plain": [
       "(23856, 18)"
      ]
     },
     "execution_count": 5,
     "metadata": {},
     "output_type": "execute_result"
    }
   ],
   "source": [
    "train_df.shape"
   ]
  },
  {
   "cell_type": "code",
   "execution_count": 6,
   "metadata": {},
   "outputs": [
    {
     "data": {
      "text/plain": [
       "(15903, 17)"
      ]
     },
     "execution_count": 6,
     "metadata": {},
     "output_type": "execute_result"
    }
   ],
   "source": [
    "test_df.shape"
   ]
  },
  {
   "cell_type": "code",
   "execution_count": 7,
   "metadata": {},
   "outputs": [
    {
     "data": {
      "text/plain": [
       "INCIDENT_ID         0.000000\n",
       "DATE                0.000000\n",
       "X_1                 0.000000\n",
       "X_2                 0.000000\n",
       "X_3                 0.000000\n",
       "X_4                 0.000000\n",
       "X_5                 0.000000\n",
       "X_6                 0.000000\n",
       "X_7                 0.000000\n",
       "X_8                 0.000000\n",
       "X_9                 0.000000\n",
       "X_10                0.000000\n",
       "X_11                0.000000\n",
       "X_12                0.762911\n",
       "X_13                0.000000\n",
       "X_14                0.000000\n",
       "X_15                0.000000\n",
       "MULTIPLE_OFFENSE    0.000000\n",
       "dtype: float64"
      ]
     },
     "execution_count": 7,
     "metadata": {},
     "output_type": "execute_result"
    }
   ],
   "source": [
    "#### check percentage of missing value in each column \n",
    "train_df.isnull().sum() / len(train_df) * 100"
   ]
  },
  {
   "cell_type": "code",
   "execution_count": 8,
   "metadata": {},
   "outputs": [
    {
     "data": {
      "text/plain": [
       "INCIDENT_ID    0.000000\n",
       "DATE           0.000000\n",
       "X_1            0.000000\n",
       "X_2            0.000000\n",
       "X_3            0.000000\n",
       "X_4            0.000000\n",
       "X_5            0.000000\n",
       "X_6            0.000000\n",
       "X_7            0.000000\n",
       "X_8            0.000000\n",
       "X_9            0.000000\n",
       "X_10           0.000000\n",
       "X_11           0.000000\n",
       "X_12           0.798591\n",
       "X_13           0.000000\n",
       "X_14           0.000000\n",
       "X_15           0.000000\n",
       "dtype: float64"
      ]
     },
     "execution_count": 8,
     "metadata": {},
     "output_type": "execute_result"
    }
   ],
   "source": [
    "#### check percentage of missing value in each column \n",
    "test_df.isnull().sum() / len(test_df) * 100"
   ]
  },
  {
   "cell_type": "markdown",
   "metadata": {},
   "source": [
    "#### Check distribution of the variable that has missing value (X_12)"
   ]
  },
  {
   "cell_type": "code",
   "execution_count": 9,
   "metadata": {},
   "outputs": [
    {
     "data": {
      "text/plain": [
       "count    23674.000000\n",
       "mean         0.974064\n",
       "std          1.167725\n",
       "min          0.000000\n",
       "25%          1.000000\n",
       "50%          1.000000\n",
       "75%          1.000000\n",
       "max         90.000000\n",
       "Name: X_12, dtype: float64"
      ]
     },
     "execution_count": 9,
     "metadata": {},
     "output_type": "execute_result"
    }
   ],
   "source": [
    "train_df[\"X_12\"].describe()"
   ]
  },
  {
   "cell_type": "code",
   "execution_count": 10,
   "metadata": {},
   "outputs": [
    {
     "data": {
      "text/plain": [
       "count    15776.000000\n",
       "mean         0.972236\n",
       "std          0.876669\n",
       "min          0.000000\n",
       "25%          1.000000\n",
       "50%          1.000000\n",
       "75%          1.000000\n",
       "max         40.000000\n",
       "Name: X_12, dtype: float64"
      ]
     },
     "execution_count": 10,
     "metadata": {},
     "output_type": "execute_result"
    }
   ],
   "source": [
    "test_df[\"X_12\"].describe()"
   ]
  },
  {
   "cell_type": "code",
   "execution_count": 11,
   "metadata": {},
   "outputs": [],
   "source": [
    "### handling missing value by filling in with the most frequent observation\n",
    "train_df[\"X_12\"] = train_df[\"X_12\"].fillna(train_df[\"X_12\"].mode()[0])\n",
    "test_df[\"X_12\"] = test_df[\"X_12\"].fillna(test_df[\"X_12\"].mode()[0])"
   ]
  },
  {
   "cell_type": "code",
   "execution_count": 12,
   "metadata": {},
   "outputs": [
    {
     "data": {
      "text/plain": [
       "INCIDENT_ID         0\n",
       "DATE                0\n",
       "X_1                 0\n",
       "X_2                 0\n",
       "X_3                 0\n",
       "X_4                 0\n",
       "X_5                 0\n",
       "X_6                 0\n",
       "X_7                 0\n",
       "X_8                 0\n",
       "X_9                 0\n",
       "X_10                0\n",
       "X_11                0\n",
       "X_12                0\n",
       "X_13                0\n",
       "X_14                0\n",
       "X_15                0\n",
       "MULTIPLE_OFFENSE    0\n",
       "dtype: int64"
      ]
     },
     "execution_count": 12,
     "metadata": {},
     "output_type": "execute_result"
    }
   ],
   "source": [
    "#### confirm that there's no null again\n",
    "train_df.isnull().sum()"
   ]
  },
  {
   "cell_type": "code",
   "execution_count": 13,
   "metadata": {},
   "outputs": [
    {
     "data": {
      "text/plain": [
       "INCIDENT_ID    0\n",
       "DATE           0\n",
       "X_1            0\n",
       "X_2            0\n",
       "X_3            0\n",
       "X_4            0\n",
       "X_5            0\n",
       "X_6            0\n",
       "X_7            0\n",
       "X_8            0\n",
       "X_9            0\n",
       "X_10           0\n",
       "X_11           0\n",
       "X_12           0\n",
       "X_13           0\n",
       "X_14           0\n",
       "X_15           0\n",
       "dtype: int64"
      ]
     },
     "execution_count": 13,
     "metadata": {},
     "output_type": "execute_result"
    }
   ],
   "source": [
    "#### confirm that there's no null again\n",
    "test_df.isnull().sum()"
   ]
  },
  {
   "cell_type": "code",
   "execution_count": 14,
   "metadata": {},
   "outputs": [],
   "source": [
    "### convert the X_12 column from float to int\n",
    "train_df.X_12 = train_df.X_12.apply(lambda x: int(x))\n",
    "test_df.X_12 = test_df.X_12.apply(lambda x: int(x))"
   ]
  },
  {
   "cell_type": "markdown",
   "metadata": {},
   "source": [
    "### Extract the X_train, X_test and y_train"
   ]
  },
  {
   "cell_type": "code",
   "execution_count": 15,
   "metadata": {},
   "outputs": [],
   "source": [
    "X_train = train_df.drop(['INCIDENT_ID', 'DATE', 'MULTIPLE_OFFENSE'], axis = 1)\n",
    "\n",
    "X_test = test_df.drop(['INCIDENT_ID', 'DATE'], axis = 1)\n",
    "\n",
    "y_train = train_df[\"MULTIPLE_OFFENSE\"]\n"
   ]
  },
  {
   "cell_type": "markdown",
   "metadata": {},
   "source": [
    "### Normalization "
   ]
  },
  {
   "cell_type": "code",
   "execution_count": 16,
   "metadata": {},
   "outputs": [],
   "source": [
    "scaler = preprocessing.StandardScaler().fit(X_train)\n",
    "\n",
    "norm_X_train =scaler.transform(X_train)\n",
    "norm_X_test = scaler.transform(X_test)"
   ]
  },
  {
   "cell_type": "code",
   "execution_count": 18,
   "metadata": {},
   "outputs": [
    {
     "data": {
      "text/plain": [
       "array([[-0.33602492,  0.73548947,  0.61861178, ...,  0.24505213,\n",
       "        -1.00872781,  0.30229601],\n",
       "       [ 0.35856051,  0.80110665,  0.81683078, ...,  0.64365126,\n",
       "         1.60118818,  0.06382199],\n",
       "       [-0.33602492, -1.42987743, -1.4957242 , ...,  0.89730526,\n",
       "         0.46945469,  0.06382199],\n",
       "       ...,\n",
       "       [-0.33602492,  0.0137005 ,  0.02395479, ..., -2.72632324,\n",
       "        -1.00872781, -1.84397015],\n",
       "       [-0.33602492,  0.932341  ,  0.94897678, ...,  0.96977783,\n",
       "         0.70042071,  1.13695506],\n",
       "       [ 4.52607309,  0.73548947,  0.61861178, ...,  0.24505213,\n",
       "        -1.00872781,  0.06382199]])"
      ]
     },
     "execution_count": 18,
     "metadata": {},
     "output_type": "execute_result"
    }
   ],
   "source": [
    "norm_X_train"
   ]
  },
  {
   "cell_type": "code",
   "execution_count": 17,
   "metadata": {},
   "outputs": [
    {
     "data": {
      "text/plain": [
       "array([[-0.33602492,  0.3417864 ,  0.68468478, ..., -0.47967357,\n",
       "         1.06996634, -1.2477851 ],\n",
       "       [-0.33602492,  1.2604269 ,  1.27934178, ..., -2.65385067,\n",
       "        -1.00872781,  0.06382199],\n",
       "       [-0.33602492,  0.60425511,  0.55253878, ..., -0.47967357,\n",
       "        -1.67852926,  0.06382199],\n",
       "       ...,\n",
       "       [-0.33602492,  0.07931768,  0.15610078, ..., -0.47967357,\n",
       "        -0.24653996,  0.06382199],\n",
       "       [-0.33602492, -0.24876821, -0.10819121, ...,  0.24505213,\n",
       "        -0.24653996,  0.06382199],\n",
       "       [-0.33602492, -1.36426025, -1.3635782 , ..., -0.47967357,\n",
       "        -1.00872781,  0.06382199]])"
      ]
     },
     "execution_count": 17,
     "metadata": {},
     "output_type": "execute_result"
    }
   ],
   "source": [
    "norm_X_test"
   ]
  },
  {
   "cell_type": "markdown",
   "metadata": {},
   "source": [
    "#### using Gridsearch for hyperparameter tuning"
   ]
  },
  {
   "cell_type": "code",
   "execution_count": 20,
   "metadata": {},
   "outputs": [
    {
     "name": "stdout",
     "output_type": "stream",
     "text": [
      "Fitting 5 folds for each of 16 candidates, totalling 80 fits\n"
     ]
    },
    {
     "name": "stderr",
     "output_type": "stream",
     "text": [
      "[Parallel(n_jobs=4)]: Using backend LokyBackend with 4 concurrent workers.\n",
      "[Parallel(n_jobs=4)]: Done   5 tasks      | elapsed:  1.2min\n",
      "[Parallel(n_jobs=4)]: Done  10 tasks      | elapsed:  1.6min\n",
      "[Parallel(n_jobs=4)]: Done  17 tasks      | elapsed:  2.4min\n",
      "[Parallel(n_jobs=4)]: Done  24 tasks      | elapsed:  2.7min\n",
      "[Parallel(n_jobs=4)]: Done  33 tasks      | elapsed:  3.1min\n",
      "[Parallel(n_jobs=4)]: Done  42 tasks      | elapsed:  3.5min\n",
      "[Parallel(n_jobs=4)]: Done  53 tasks      | elapsed:  4.0min\n",
      "[Parallel(n_jobs=4)]: Done  64 tasks      | elapsed:  4.4min\n",
      "[Parallel(n_jobs=4)]: Done  80 out of  80 | elapsed:  5.6min finished\n"
     ]
    },
    {
     "data": {
      "text/plain": [
       "({'mean_fit_time': array([31.99351587, 27.3818469 , 26.58274593, 21.70592895, 12.60359254,\n",
       "          9.33759937,  9.22299991, 11.48419971,  9.27000065, 10.69899888,\n",
       "         10.65820041,  9.2715991 , 12.42820053, 10.31639981, 17.84040322,\n",
       "         27.91481128]),\n",
       "  'std_fit_time': array([0.75429889, 3.57369656, 3.05932488, 3.78759236, 2.46622674,\n",
       "         2.0612105 , 2.07434284, 1.96333975, 1.46998619, 1.65026544,\n",
       "         1.67748436, 1.29432579, 1.92916755, 2.18395174, 4.07079708,\n",
       "         3.3943987 ]),\n",
       "  'mean_score_time': array([0.13019962, 0.17340121, 0.14200058, 0.10699997, 0.05120053,\n",
       "         0.04440002, 0.0454    , 0.04259996, 0.05100083, 0.05260005,\n",
       "         0.04579973, 0.03980031, 0.05360031, 0.05740047, 0.07960038,\n",
       "         0.10779896]),\n",
       "  'std_score_time': array([0.01558646, 0.01334919, 0.02745983, 0.00987945, 0.00614519,\n",
       "         0.0033824 , 0.00816312, 0.00427056, 0.00819789, 0.01024932,\n",
       "         0.00757381, 0.00193916, 0.00808943, 0.00781308, 0.03392096,\n",
       "         0.02319876]),\n",
       "  'param_colsample_bytree': masked_array(data=[0.6, 0.6, 0.6, 0.6, 0.7, 0.7, 0.7, 0.7, 0.8, 0.8, 0.8,\n",
       "                     0.8, 0.9, 0.9, 0.9, 0.9],\n",
       "               mask=[False, False, False, False, False, False, False, False,\n",
       "                     False, False, False, False, False, False, False, False],\n",
       "         fill_value='?',\n",
       "              dtype=object),\n",
       "  'param_subsample': masked_array(data=[0.6, 0.7, 0.8, 0.9, 0.6, 0.7, 0.8, 0.9, 0.6, 0.7, 0.8,\n",
       "                     0.9, 0.6, 0.7, 0.8, 0.9],\n",
       "               mask=[False, False, False, False, False, False, False, False,\n",
       "                     False, False, False, False, False, False, False, False],\n",
       "         fill_value='?',\n",
       "              dtype=object),\n",
       "  'params': [{'colsample_bytree': 0.6, 'subsample': 0.6},\n",
       "   {'colsample_bytree': 0.6, 'subsample': 0.7},\n",
       "   {'colsample_bytree': 0.6, 'subsample': 0.8},\n",
       "   {'colsample_bytree': 0.6, 'subsample': 0.9},\n",
       "   {'colsample_bytree': 0.7, 'subsample': 0.6},\n",
       "   {'colsample_bytree': 0.7, 'subsample': 0.7},\n",
       "   {'colsample_bytree': 0.7, 'subsample': 0.8},\n",
       "   {'colsample_bytree': 0.7, 'subsample': 0.9},\n",
       "   {'colsample_bytree': 0.8, 'subsample': 0.6},\n",
       "   {'colsample_bytree': 0.8, 'subsample': 0.7},\n",
       "   {'colsample_bytree': 0.8, 'subsample': 0.8},\n",
       "   {'colsample_bytree': 0.8, 'subsample': 0.9},\n",
       "   {'colsample_bytree': 0.9, 'subsample': 0.6},\n",
       "   {'colsample_bytree': 0.9, 'subsample': 0.7},\n",
       "   {'colsample_bytree': 0.9, 'subsample': 0.8},\n",
       "   {'colsample_bytree': 0.9, 'subsample': 0.9}],\n",
       "  'split0_test_score': array([0.99956634, 0.9996135 , 0.9996422 , 0.99960222, 0.9995284 ,\n",
       "         0.99948227, 0.99944229, 0.99964015, 0.99908757, 0.99928338,\n",
       "         0.99934489, 0.99950688, 0.99923417, 0.99927518, 0.99947099,\n",
       "         0.99956839]),\n",
       "  'split1_test_score': array([0.9999918 , 0.99999077, 0.99999487, 0.99999487, 0.99999282,\n",
       "         0.99998872, 0.99998975, 0.99999487, 0.99999385, 0.99998769,\n",
       "         0.99998872, 0.99998975, 0.99999077, 0.99998872, 0.99998975,\n",
       "         0.99999385]),\n",
       "  'split2_test_score': array([0.99999282, 0.99999282, 0.99999795, 1.        , 0.99998769,\n",
       "         0.99998975, 0.99999385, 0.9999959 , 0.99998052, 0.99998257,\n",
       "         0.99998975, 0.99999282, 0.99998564, 0.99998769, 0.99999077,\n",
       "         0.99999385]),\n",
       "  'split3_test_score': array([0.99998146, 0.99998249, 0.99998146, 0.99998661, 0.9999794 ,\n",
       "         0.99998352, 0.99998661, 0.99998661, 0.99997528, 0.99998867,\n",
       "         0.99998661, 0.99998867, 0.99997837, 0.99998867, 0.99998661,\n",
       "         0.99998661]),\n",
       "  'split4_test_score': array([0.99999176, 0.99999588, 0.99999691, 0.99999897, 0.99999279,\n",
       "         0.99999794, 0.99999794, 0.99999794, 0.99999382, 0.99999485,\n",
       "         0.99999691, 0.99999691, 0.99998867, 0.99999382, 0.99999382,\n",
       "         0.99999691]),\n",
       "  'mean_test_score': array([0.99990484, 0.99991509, 0.99992268, 0.99991653, 0.99989622,\n",
       "         0.99988844, 0.99988209, 0.99992309, 0.99980621, 0.99984743,\n",
       "         0.99986138, 0.999895  , 0.99983552, 0.99984682, 0.99988639,\n",
       "         0.99990792]),\n",
       "  'std_test_score': array([0.0001693 , 0.00015086, 0.00014036, 0.00015723, 0.00018397,\n",
       "         0.00020314, 0.00021993, 0.00014152, 0.00035939, 0.00028205,\n",
       "         0.00025826, 0.00019409, 0.00030071, 0.00028583, 0.00020771,\n",
       "         0.0001698 ]),\n",
       "  'rank_test_score': array([ 6,  4,  2,  3,  7,  9, 11,  1, 16, 13, 12,  8, 15, 14, 10,  5])},\n",
       " {'colsample_bytree': 0.7, 'subsample': 0.9},\n",
       " 0.9999230945697779)"
      ]
     },
     "execution_count": 20,
     "metadata": {},
     "output_type": "execute_result"
    }
   ],
   "source": [
    "parameters = {'subsample':[i/10.0 for i in range(6,10)], 'colsample_bytree':[i/10.0 for i in range(6,10)]}\n",
    "\n",
    "Grid_Search_Result = GridSearchCV(estimator = XGBClassifier( learning_rate = 0.1, n_estimators=177, max_depth=5,\n",
    "                                                            min_child_weight=1, gamma=0.0, subsample=0.8, colsample_bytree=0.8,\n",
    "                                                            objective= 'binary:logistic', nthread=4, scale_pos_weight=1,seed=27), verbose = 10,\n",
    "                                                            param_grid = parameters, scoring='roc_auc',n_jobs=4,iid=False, cv=5)\n",
    "\n",
    "### fit on training set\n",
    "Grid_Search_Result.fit(X_train, y_train)\n",
    "\n",
    "## return best set of parameters, and results\n",
    "Grid_Search_Result.cv_results_, Grid_Search_Result.best_params_, Grid_Search_Result.best_score_"
   ]
  },
  {
   "cell_type": "markdown",
   "metadata": {},
   "source": [
    "#### Generate predictions"
   ]
  },
  {
   "cell_type": "code",
   "execution_count": 30,
   "metadata": {},
   "outputs": [],
   "source": [
    "predictions = Grid_Search_Result.predict(X_test)"
   ]
  },
  {
   "cell_type": "markdown",
   "metadata": {},
   "source": [
    "#### export submission as dataframe"
   ]
  },
  {
   "cell_type": "code",
   "execution_count": 32,
   "metadata": {},
   "outputs": [],
   "source": [
    "submission_df = pd.DataFrame({'INCIDENT_ID':test_df['INCIDENT_ID'], 'MULTIPLE_OFFENSE':predictions})\n",
    "submission_df.to_csv('final_submission.csv', index=False)\n"
   ]
  },
  {
   "cell_type": "markdown",
   "metadata": {},
   "source": [
    "### End of file"
   ]
  },
  {
   "cell_type": "code",
   "execution_count": null,
   "metadata": {},
   "outputs": [],
   "source": []
  }
 ],
 "metadata": {
  "kernelspec": {
   "display_name": "Python 3",
   "language": "python",
   "name": "python3"
  },
  "language_info": {
   "codemirror_mode": {
    "name": "ipython",
    "version": 3
   },
   "file_extension": ".py",
   "mimetype": "text/x-python",
   "name": "python",
   "nbconvert_exporter": "python",
   "pygments_lexer": "ipython3",
   "version": "3.7.1"
  }
 },
 "nbformat": 4,
 "nbformat_minor": 2
}
